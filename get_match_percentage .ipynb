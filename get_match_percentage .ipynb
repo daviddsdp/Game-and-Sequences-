{
 "cells": [
  {
   "cell_type": "code",
   "execution_count": null,
   "metadata": {},
   "outputs": [
    {
     "name": "stdout",
     "output_type": "stream",
     "text": [
      "valores +dddd\n",
      "¿?d\n",
      ":(\n",
      "¿?dddd\n",
      ":)\n",
      "¿?ddd\n",
      ":(\n",
      "¿?ddddd\n",
      ":)\n",
      "¿?d\n",
      ":(\n",
      "¿?d\n",
      ":(\n",
      "¿?dddd\n",
      ":)\n"
     ]
    }
   ],
   "source": [
    "import re\n",
    "full_pattern = input(\"valores +\")\n",
    "num_pos_matches = 3\n",
    "\n",
    "while True:\n",
    "    list_of_test_cases = [input(\"¿?\")]\n",
    "    def get_match_percentage(in_str):\n",
    "      m = re.match(full_pattern,in_str)\n",
    "      if m == None:\n",
    "        return 0\n",
    "      m_g = m.groups()\n",
    "\n",
    "      counter = 0\n",
    "      for x in m_g:\n",
    "        if x == None:\n",
    "         counter+=1\n",
    "      return round((1 - counter/num_pos_matches) * 100,2)\n",
    "# print some tests\n",
    "\n",
    "    for test_case in list_of_test_cases:\n",
    "        if get_match_percentage(test_case) >= 67.0:\n",
    "            print(\":)\")\n",
    "        elif get_match_percentage(test_case) <= 33.0:\n",
    "            print(\":(\")\n",
    "        elif 67.0 >= get_match_percentage(test_case) <= 33.0:\n",
    "            print(\"quizas\")\n",
    "        else:\n",
    "            print(\"Ni idea\")"
   ]
  },
  {
   "cell_type": "code",
   "execution_count": null,
   "metadata": {},
   "outputs": [],
   "source": []
  }
 ],
 "metadata": {
  "kernelspec": {
   "display_name": "Python 3",
   "language": "python",
   "name": "python3"
  },
  "language_info": {
   "codemirror_mode": {
    "name": "ipython",
    "version": 3
   },
   "file_extension": ".py",
   "mimetype": "text/x-python",
   "name": "python",
   "nbconvert_exporter": "python",
   "pygments_lexer": "ipython3",
   "version": "3.7.6"
  }
 },
 "nbformat": 4,
 "nbformat_minor": 4
}
