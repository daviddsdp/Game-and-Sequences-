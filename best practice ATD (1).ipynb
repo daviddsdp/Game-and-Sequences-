{
 "cells": [
  {
   "cell_type": "code",
   "execution_count": null,
   "metadata": {
    "scrolled": true
   },
   "outputs": [
    {
     "name": "stdout",
     "output_type": "stream",
     "text": [
      "Frag mich über dein Dilemma\n",
      "Keine Ahnung. Hinterlässt bitte die Frage Emma.015906322325.\n",
      "Copyright DSDP 2019\n"
     ]
    }
   ],
   "source": [
    "import re\n",
    "\n",
    "while True:\n",
    "    \n",
    "    answer = input(\"Frag mich über dein Dilemma\")\n",
    "    \n",
    "\n",
    "    x = \"wahrheit|nicht die Lüge\"\n",
    "    y = \"lüge|nicht die Wahrheit\"\n",
    "    w = \"sinnvoll|gut\"\n",
    "    v = \"wahnsinn|schlecht\"\n",
    "\n",
    "    if re.findall(x,answer,re.DOTALL):\n",
    "        (z)= 1\n",
    "    else:\n",
    "        (z)= 0 \n",
    "    \n",
    "    if re.findall(y,answer,re.DOTALL):\n",
    "        (z1)= -1\n",
    "    else:\n",
    "        (z1)= 0 \n",
    "\n",
    "    if  1 <=(z)+(z1):\n",
    "        a = input(\"Sag mir mal bitte mehr über das:\")\n",
    "        if re.findall(v,a):\n",
    "            print('Vielleicht sag du eher das nicht')\n",
    "        else:\n",
    "            print('Ja. Du machst das')\n",
    "\n",
    "        if -1 >=(z)+(z1) and not 0:\n",
    "            b = input(\"aber warum brauchst du das:\")\n",
    "        if re.findall(w,a):\n",
    "            print('Vielleicht machst du das')\n",
    "        else:\n",
    "            print('Nein. Du machst das nicht')\n",
    "\n",
    "    elif (z)+(z1) == 0: \n",
    "        print('Keine Ahnung. Hinterlässt bitte die Frage Emma.015906322325.')\n",
    "\n",
    "    print (\"Copyright DSDP 2019\")"
   ]
  },
  {
   "cell_type": "code",
   "execution_count": null,
   "metadata": {},
   "outputs": [],
   "source": []
  }
 ],
 "metadata": {
  "kernelspec": {
   "display_name": "Python 3",
   "language": "python",
   "name": "python3"
  },
  "language_info": {
   "codemirror_mode": {
    "name": "ipython",
    "version": 3
   },
   "file_extension": ".py",
   "mimetype": "text/x-python",
   "name": "python",
   "nbconvert_exporter": "python",
   "pygments_lexer": "ipython3",
   "version": "3.7.3"
  }
 },
 "nbformat": 4,
 "nbformat_minor": 2
}
