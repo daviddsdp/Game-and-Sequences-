{
 "cells": [
  {
   "cell_type": "code",
   "execution_count": null,
   "metadata": {
    "scrolled": true
   },
   "outputs": [],
   "source": [
    "import re\n",
    "\n",
    "\n",
    "a = input('Paste hier the answer to dilemma:)\n",
    "    \n",
    "\n",
    "while True:\n",
    "    b = input('Ask me for dilemma:)\n",
    "    if re.findall(b,a,re.DOTALL):\n",
    "        (z)= 1\n",
    "    else:\n",
    "        (z)= 0 \n",
    "\n",
    "    if 0<(z):\n",
    "        print('Maybe!')\n",
    "    \n",
    "    else:\n",
    "        print('Not idea.')"
   ]
  },
  {
   "cell_type": "code",
   "execution_count": null,
   "metadata": {},
   "outputs": [],
   "source": []
  }
 ],
 "metadata": {
  "kernelspec": {
   "display_name": "Python 3",
   "language": "python",
   "name": "python3"
  },
  "language_info": {
   "codemirror_mode": {
    "name": "ipython",
    "version": 3
   },
   "file_extension": ".py",
   "mimetype": "text/x-python",
   "name": "python",
   "nbconvert_exporter": "python",
   "pygments_lexer": "ipython3",
   "version": "3.7.3"
  }
 },
 "nbformat": 4,
 "nbformat_minor": 2
}
