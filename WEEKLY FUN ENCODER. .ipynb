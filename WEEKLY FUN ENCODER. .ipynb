{
 "cells": [
  {
   "cell_type": "code",
   "execution_count": null,
   "metadata": {
    "scrolled": false
   },
   "outputs": [
    {
     "name": "stdout",
     "output_type": "stream",
     "text": [
      "Tell me please about your fun. Then where and when your looking for: aber \n",
      "Tell me please about your fun. Then where and when your looking for:Äußerung, im weiteren Sinne auch nicht geschriebene, aber schreibbare Sprachinformation (beispielsweise eines Liedes, Films oder einer improvisierten ...\n",
      "Something happens let you know\n",
      "Tell me please about your fun. Then where and when your looking for: bezeichnet \n",
      "Tell me please about your fun. Then where and when your looking for:Text (lateinisch texere ‚weben', ‚flechten') bezeichnet im nichtwissenschaftlichen Sprachgebrauch eine abgegrenzte, zusammenhängende, meist schriftliche sprachliche Äußerung, im weiteren Sinne auch nicht geschriebene, aber schreibbare Sprachinformation (beispielsweise eines Liedes, Films oder einer improvisierten ...\n",
      "Something happens let you know\n"
     ]
    }
   ],
   "source": [
    "import re\n",
    "\n",
    "while True:\n",
    "    \n",
    "    a = input(\"Tell me please about your fun. Then where and when your looking for:\")\n",
    "    b = input(\"Tell me please about your fun. Then where and when your looking for:\")\n",
    "   \n",
    "\n",
    "    if re.findall(a,b,re.DOTALL):\n",
    "        (z)= 1\n",
    "    else:\n",
    "        (z)= 0 \n",
    "\n",
    "    \n",
    "\n",
    "    if 1==z:\n",
    "        print('Something happens let you know')\n",
    "    \n",
    "    else:\n",
    "        print('Nothing happen around the world')"
   ]
  },
  {
   "cell_type": "code",
   "execution_count": null,
   "metadata": {},
   "outputs": [],
   "source": []
  },
  {
   "cell_type": "code",
   "execution_count": null,
   "metadata": {},
   "outputs": [],
   "source": []
  }
 ],
 "metadata": {
  "kernelspec": {
   "display_name": "Python 3",
   "language": "python",
   "name": "python3"
  },
  "language_info": {
   "codemirror_mode": {
    "name": "ipython",
    "version": 3
   },
   "file_extension": ".py",
   "mimetype": "text/x-python",
   "name": "python",
   "nbconvert_exporter": "python",
   "pygments_lexer": "ipython3",
   "version": "3.6.7"
  }
 },
 "nbformat": 4,
 "nbformat_minor": 2
}
