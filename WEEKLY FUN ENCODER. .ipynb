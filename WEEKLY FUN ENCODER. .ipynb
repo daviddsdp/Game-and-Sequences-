{
 "cells": [
  {
   "cell_type": "code",
   "execution_count": null,
   "metadata": {
    "scrolled": false
   },
   "outputs": [
    {
     "name": "stdout",
     "output_type": "stream",
     "text": [
      "Paste hier your week encoder: salsa\n",
      "Ask me please about your the fun: salsa\n",
      "Something happens let you know\n"
     ]
    }
   ],
   "source": [
    "import re\n",
    "\n",
    "a = input(\"Paste hier your week encoder:\")\n",
    "\n",
    "while True:\n",
    "    b = input(\"Ask me please about your the fun:\")\n",
    "    if re.findall(b,a,re.DOTALL):\n",
    "        (z)= 1\n",
    "    else:\n",
    "        (z)= 0 \n",
    "\n",
    "    if 0<(z):\n",
    "        print('Something happens let you know')\n",
    "    \n",
    "    else:\n",
    "        print('Nothing happen around the world')"
   ]
  },
  {
   "cell_type": "code",
   "execution_count": null,
   "metadata": {},
   "outputs": [],
   "source": []
  },
  {
   "cell_type": "code",
   "execution_count": null,
   "metadata": {},
   "outputs": [],
   "source": []
  }
 ],
 "metadata": {
  "kernelspec": {
   "display_name": "Python 3",
   "language": "python",
   "name": "python3"
  },
  "language_info": {
   "codemirror_mode": {
    "name": "ipython",
    "version": 3
   },
   "file_extension": ".py",
   "mimetype": "text/x-python",
   "name": "python",
   "nbconvert_exporter": "python",
   "pygments_lexer": "ipython3",
   "version": "3.7.3"
  }
 },
 "nbformat": 4,
 "nbformat_minor": 2
}
