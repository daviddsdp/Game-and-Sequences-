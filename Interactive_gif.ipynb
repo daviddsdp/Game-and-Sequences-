{
  "nbformat": 4,
  "nbformat_minor": 0,
  "metadata": {
    "colab": {
      "name": "Interactive gif",
      "private_outputs": true,
      "provenance": [],
      "collapsed_sections": []
    },
    "kernelspec": {
      "name": "python3",
      "display_name": "Python 3"
    }
  },
  "cells": [
    {
      "cell_type": "code",
      "metadata": {
        "id": "bvSk7SnorUXo"
      },
      "source": [
        "from IPython.core.interactiveshell import InteractiveShell\r\n",
        "InteractiveShell.ast_node_interactivity = \"all\"\r\n",
        "from IPython import display\r\n",
        "from pathlib import Path\r\n",
        "import re\r\n",
        "gifPath = Path(\"/content/drive/MyDrive/Material.gif\")\r\n",
        "\r\n",
        "with open(gifPath,'rb') as f:\r\n",
        "    display.Image(data=f.read(), format='png')"
      ],
      "execution_count": null,
      "outputs": []
    },
    {
      "cell_type": "code",
      "metadata": {
        "id": "Ig-88ocoxMfY"
      },
      "source": [
        "\r\n",
        "full_pattern = input(\"valores +\")\r\n",
        "num_pos_matches = 3\r\n",
        "\r\n",
        "while True:\r\n",
        "    list_of_test_cases = [input(\"¿?\")]\r\n",
        "    def get_match_percentage(in_str):\r\n",
        "      m = re.match(full_pattern,in_str)\r\n",
        "      if m == None:\r\n",
        "        return 0\r\n",
        "      m_g = m.groups()\r\n",
        "\r\n",
        "      counter = 0\r\n",
        "      for x in m_g:\r\n",
        "        if x == None:\r\n",
        "         counter+=1\r\n",
        "      return round((1 - counter/num_pos_matches) * 100,2)\r\n",
        " \r\n",
        "\r\n",
        "    for test_case in list_of_test_cases:\r\n",
        "        if get_match_percentage(test_case) >= 67.0:\r\n",
        "            # Yes\r\n",
        "            gifPath = Path(\"/content/drive/MyDrive/Yes do it.gif\")\r\n",
        "             \r\n",
        "            with open(gifPath,'rb') as f:\r\n",
        "            display.Image(data=f.read(), format='png')\r\n",
        "        elif get_match_percentage(test_case) <= 33.0:\r\n",
        "            # No \r\n",
        "            gifPath = Path(\"/content/drive/MyDrive/Not.gif\")\r\n",
        "             \r\n",
        "            with open(gifPath,'rb') as f:\r\n",
        "            display.Image(data=f.read(), format='png')\r\n",
        "        elif 67.0 >= get_match_percentage(test_case) <= 33.0:\r\n",
        "            # Maybe \r\n",
        "            gifPath = Path(\"/content/drive/MyDrive/surprising ohh.gif\")\r\n",
        "             \r\n",
        "            with open(gifPath,'rb') as f:\r\n",
        "            display.Image(data=f.read(), format='png')\r\n",
        "        else:\r\n",
        "            # I dont know \r\n",
        "            gifPath = Path(\"/content/drive/MyDrive/standby.gif\")\r\n",
        "             \r\n",
        "            with open(gifPath,'rb') as f:\r\n",
        "            display.Image(data=f.read(), format='png')"
      ],
      "execution_count": null,
      "outputs": []
    },
    {
      "cell_type": "code",
      "metadata": {
        "id": "Rj39SwB9q-5a"
      },
      "source": [
        ""
      ],
      "execution_count": null,
      "outputs": []
    }
  ]
}