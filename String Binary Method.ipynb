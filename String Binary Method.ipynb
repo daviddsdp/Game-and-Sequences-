{
 "cells": [
  {
   "cell_type": "code",
   "execution_count": 74,
   "metadata": {
    "scrolled": true
   },
   "outputs": [
    {
     "name": "stdout",
     "output_type": "stream",
     "text": [
      "David z\n",
      "3284309\n"
     ]
    },
    {
     "data": {
      "text/plain": [
       "(None, str, '0b1100100001110101010101')"
      ]
     },
     "execution_count": 74,
     "metadata": {},
     "output_type": "execute_result"
    }
   ],
   "source": [
    "import re\n",
    "\n",
    "\n",
    "def replace_all(repls, str):\n",
    "\n",
    "    return re.sub('|'.join(re.escape(key) for key in repls.keys()),\n",
    "                 lambda k: repls[k.group(0)], str) \n",
    "\n",
    "\n",
    "\n",
    "T9 = {\n",
    "\"A\" : \"2\", \n",
    "\"a\" : \"2\",\n",
    "\"B\" : \"2\", \n",
    "\"b\" : \"2\",\n",
    "\"C\" : \"2\", \n",
    "\"c\" : \"2\",\n",
    "\"D\" : \"3\", \n",
    "\"d\" : \"3\",\n",
    "\"E\" : \"3\", \n",
    "\"e\" : \"3\",\n",
    "\"F\" : \"3\", \n",
    "\"f\" : \"3\",\n",
    "\"H\" : \"4\", \n",
    "\"h\" : \"4\",\n",
    "\"I\" : \"4\", \n",
    "\"i\" : \"4\",\n",
    "\"J\" : \"4\",\n",
    "\"j\" : \"4\", \n",
    "\"K\" : \"5\", \n",
    "\"k\" : \"5\",\n",
    "\"L\" : \"5\", \n",
    "\"l\" : \"5\",\n",
    "\"M\" : \"5\", \n",
    "\"m\" : \"5\",\n",
    "\"N\" : \"6\", \n",
    "\"n\" : \"6\",\n",
    "\"O\" : \"6\", \n",
    "\"o\" : \"6\",\n",
    "\"P\" : \"6\", \n",
    "\"p\" : \"6\",\n",
    "\"Q\" : \"7\", \n",
    "\"q\" : \"7\",\n",
    "\"R\" : \"7\", \n",
    "\"r\" : \"7\",\n",
    "\"S\" : \"7\", \n",
    "\"s\" : \"7\",\n",
    "\"T\" : \"8\", \n",
    "\"t\" : \"8\",\n",
    "\"U\" : \"8\", \n",
    "\"u\" : \"8\",\n",
    "\"V\" : \"8\", \n",
    "\"v\" : \"8\",\n",
    "\"W\" : \"9\", \n",
    "\"w\" : \"9\", \n",
    "\"X\" : \"9\", \n",
    "\"x\" : \"9\", \n",
    "\"Y\" : \"9\", \n",
    "\"y\" : \"9\", \n",
    "\"Z\" : \"9\", \n",
    "\"z\" : \"9\",\n",
    "\" \" : \"0\",\n",
    "\"\" :  \"0\", \n",
    "\".\" : \"0\",  \n",
    "\",\" : \"0\",\n",
    "\"1\" : \"1\", \n",
    "\"2\" : \"2\",\n",
    "\"3\" : \"3\",\n",
    "\"4\" : \"4\",\n",
    "\"5\" : \"5\",\n",
    "\"6\" : \"6\",\n",
    "\"7\" : \"7\",\n",
    "\"8\" : \"8\",\n",
    "\"9\" : \"9\",\n",
    "}\n",
    "\n",
    "\n",
    "\n",
    "a = replace_all(T9,input(\"\"))\n",
    "print(int(a)),type(a),bin(int(a))"
   ]
  },
  {
   "cell_type": "code",
   "execution_count": 75,
   "metadata": {},
   "outputs": [
    {
     "data": {
      "text/plain": [
       "'0b1100100001110101010101'"
      ]
     },
     "execution_count": 75,
     "metadata": {},
     "output_type": "execute_result"
    }
   ],
   "source": [
    "bin(int(a))"
   ]
  },
  {
   "cell_type": "code",
   "execution_count": null,
   "metadata": {},
   "outputs": [],
   "source": []
  }
 ],
 "metadata": {
  "kernelspec": {
   "display_name": "Python 3",
   "language": "python",
   "name": "python3"
  },
  "language_info": {
   "codemirror_mode": {
    "name": "ipython",
    "version": 3
   },
   "file_extension": ".py",
   "mimetype": "text/x-python",
   "name": "python",
   "nbconvert_exporter": "python",
   "pygments_lexer": "ipython3",
   "version": "3.6.10"
  }
 },
 "nbformat": 4,
 "nbformat_minor": 4
}
