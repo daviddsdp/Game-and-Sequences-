{
 "cells": [
  {
   "cell_type": "code",
   "execution_count": 6,
   "metadata": {
    "scrolled": false
   },
   "outputs": [
    {
     "name": "stdout",
     "output_type": "stream",
     "text": [
      "offer L\n",
      "Search unsuccessful.\n",
      "demand K\n"
     ]
    }
   ],
   "source": [
    "import re\n",
    "import threading \n",
    "\n",
    "def gfg(): \n",
    "\n",
    "    pattern = b\n",
    "    test_string = a\n",
    "    result = re.match(pattern, test_string)    \n",
    "    if result:\n",
    "        print(\"Search successful.\")\n",
    "    else:\n",
    "        print(\"Search unsuccessful.\")\n",
    "\n",
    "  \n",
    "\n",
    "timer = threading.Timer(5.0, gfg) \n",
    "timer.start() \n",
    "\n",
    "a = input(\"offer\") \n",
    "b = input(\"demand\") "
   ]
  },
  {
   "cell_type": "code",
   "execution_count": null,
   "metadata": {},
   "outputs": [],
   "source": []
  },
  {
   "cell_type": "code",
   "execution_count": null,
   "metadata": {},
   "outputs": [],
   "source": []
  }
 ],
 "metadata": {
  "kernelspec": {
   "display_name": "Python 3",
   "language": "python",
   "name": "python3"
  },
  "language_info": {
   "codemirror_mode": {
    "name": "ipython",
    "version": 3
   },
   "file_extension": ".py",
   "mimetype": "text/x-python",
   "name": "python",
   "nbconvert_exporter": "python",
   "pygments_lexer": "ipython3",
   "version": "3.7.3"
  }
 },
 "nbformat": 4,
 "nbformat_minor": 2
}
