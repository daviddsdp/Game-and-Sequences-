{
 "cells": [
  {
   "cell_type": "code",
   "execution_count": 1,
   "metadata": {
    "scrolled": false
   },
   "outputs": [
    {
     "name": "stdout",
     "output_type": "stream",
     "text": [
      "offer: G \n",
      "demand: G \n",
      "Successful.\n"
     ]
    }
   ],
   "source": [
    "import re\n",
    "import threading \n",
    "\n",
    "a = input(\"offer:\") \n",
    "b = input(\"demand:\")   \n",
    "\n",
    "def gfg(): \n",
    "\n",
    "    pattern = a\n",
    "    test_string = b\n",
    "    result = re.match(pattern, test_string)    \n",
    "    if result:\n",
    "        print(\"Successful.\")\n",
    "    else:\n",
    "        print(\"Unsuccessful.\")\n",
    "\n",
    "  \n",
    "\n",
    "timer = threading.Timer(5.0, gfg) \n",
    "timer.start() \n",
    "\n"
   ]
  },
  {
   "cell_type": "code",
   "execution_count": null,
   "metadata": {},
   "outputs": [],
   "source": []
  },
  {
   "cell_type": "code",
   "execution_count": null,
   "metadata": {},
   "outputs": [],
   "source": []
  }
 ],
 "metadata": {
  "kernelspec": {
   "display_name": "Python 3",
   "language": "python",
   "name": "python3"
  },
  "language_info": {
   "codemirror_mode": {
    "name": "ipython",
    "version": 3
   },
   "file_extension": ".py",
   "mimetype": "text/x-python",
   "name": "python",
   "nbconvert_exporter": "python",
   "pygments_lexer": "ipython3",
   "version": "3.7.3"
  }
 },
 "nbformat": 4,
 "nbformat_minor": 2
}
